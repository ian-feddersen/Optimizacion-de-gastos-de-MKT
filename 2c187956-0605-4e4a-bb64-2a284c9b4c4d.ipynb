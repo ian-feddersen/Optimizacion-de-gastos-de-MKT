{
 "cells": [
  {
   "cell_type": "markdown",
   "metadata": {},
   "source": [
    "# Optimización de Gastos de Marketing para Showz\n",
    "\n",
    "En este proyecto, se analizarán los datos de visitas, pedidos y gastos de marketing de Showz, una empresa de venta de entradas para eventos. El objetivo es optimizar los gastos de marketing a través de un análisis exhaustivo de cómo los clientes utilizan el servicio, cuándo comienzan a comprar, cuánto dinero aportan a la empresa y cuándo los ingresos cubren los costos de adquisición de clientes."
   ]
  },
  {
   "cell_type": "markdown",
   "metadata": {},
   "source": [
    "Preparación de Datos\n",
    "Carga de datos\n",
    "Comenzamos por cargar los datos desde los archivos CSV.\n",
    "\n"
   ]
  },
  {
   "cell_type": "code",
   "execution_count": 1,
   "metadata": {},
   "outputs": [
    {
     "name": "stdout",
     "output_type": "stream",
     "text": [
      "    Device               End Ts  Source Id             Start Ts  \\\n",
      "0    touch  2017-12-20 17:38:00          4  2017-12-20 17:20:00   \n",
      "1  desktop  2018-02-19 17:21:00          2  2018-02-19 16:53:00   \n",
      "2    touch  2017-07-01 01:54:00          5  2017-07-01 01:54:00   \n",
      "3  desktop  2018-05-20 11:23:00          9  2018-05-20 10:59:00   \n",
      "4  desktop  2017-12-27 14:06:00          3  2017-12-27 14:06:00   \n",
      "\n",
      "                    Uid  \n",
      "0  16879256277535980062  \n",
      "1    104060357244891740  \n",
      "2   7459035603376831527  \n",
      "3  16174680259334210214  \n",
      "4   9969694820036681168  \n",
      "                Buy Ts  Revenue                   Uid\n",
      "0  2017-06-01 00:10:00    17.00  10329302124590727494\n",
      "1  2017-06-01 00:25:00     0.55  11627257723692907447\n",
      "2  2017-06-01 00:27:00     0.37  17903680561304213844\n",
      "3  2017-06-01 00:29:00     0.55  16109239769442553005\n",
      "4  2017-06-01 07:58:00     0.37  14200605875248379450\n",
      "   source_id          dt  costs\n",
      "0          1  2017-06-01  75.20\n",
      "1          1  2017-06-02  62.25\n",
      "2          1  2017-06-03  36.53\n",
      "3          1  2017-06-04  55.00\n",
      "4          1  2017-06-05  57.08\n"
     ]
    }
   ],
   "source": [
    "import pandas as pd\n",
    "\n",
    "# Cargar los datos\n",
    "visits = pd.read_csv('/datasets/visits_log_us.csv')\n",
    "orders = pd.read_csv('/datasets/orders_log_us.csv')\n",
    "costs = pd.read_csv('/datasets/costs_us.csv')\n",
    "\n",
    "# Mostrar las primeras filas de cada dataframe\n",
    "print(visits.head())\n",
    "print(orders.head())\n",
    "print(costs.head())\n"
   ]
  },
  {
   "cell_type": "markdown",
   "metadata": {},
   "source": [
    "Verificación y limpieza de datos\n",
    "Es importante verificar que los tipos de datos sean correctos y limpiar los datos si es necesario."
   ]
  },
  {
   "cell_type": "code",
   "execution_count": 2,
   "metadata": {},
   "outputs": [
    {
     "name": "stdout",
     "output_type": "stream",
     "text": [
      "Device       object\n",
      "End Ts       object\n",
      "Source Id     int64\n",
      "Start Ts     object\n",
      "Uid          uint64\n",
      "dtype: object\n",
      "Buy Ts      object\n",
      "Revenue    float64\n",
      "Uid         uint64\n",
      "dtype: object\n",
      "source_id      int64\n",
      "dt            object\n",
      "costs        float64\n",
      "dtype: object\n",
      "Device       0\n",
      "End Ts       0\n",
      "Source Id    0\n",
      "Start Ts     0\n",
      "Uid          0\n",
      "dtype: int64\n",
      "Buy Ts     0\n",
      "Revenue    0\n",
      "Uid        0\n",
      "dtype: int64\n",
      "source_id    0\n",
      "dt           0\n",
      "costs        0\n",
      "dtype: int64\n"
     ]
    }
   ],
   "source": [
    "# Verificar tipos de datos\n",
    "print(visits.dtypes)\n",
    "print(orders.dtypes)\n",
    "print(costs.dtypes)\n",
    "\n",
    "# Convertir fechas a datetime\n",
    "visits['Start Ts'] = pd.to_datetime(visits['Start Ts'])\n",
    "visits['End Ts'] = pd.to_datetime(visits['End Ts'])\n",
    "orders['Buy Ts'] = pd.to_datetime(orders['Buy Ts'])\n",
    "costs['dt'] = pd.to_datetime(costs['dt'])\n",
    "\n",
    "# Verificar valores nulos\n",
    "print(visits.isnull().sum())\n",
    "print(orders.isnull().sum())\n",
    "print(costs.isnull().sum())\n"
   ]
  },
  {
   "cell_type": "markdown",
   "metadata": {},
   "source": [
    "Análisis de Visitas\n",
    "Métricas diarias, semanales y mensuales\n",
    "Aquí calcularemos el número de visitas diarias, semanales y mensuales."
   ]
  },
  {
   "cell_type": "code",
   "execution_count": 3,
   "metadata": {},
   "outputs": [
    {
     "name": "stdout",
     "output_type": "stream",
     "text": [
      "Date\n",
      "2017-06-01     664\n",
      "2017-06-02     658\n",
      "2017-06-03     477\n",
      "2017-06-04     510\n",
      "2017-06-05     893\n",
      "              ... \n",
      "2018-05-27     672\n",
      "2018-05-28    1156\n",
      "2018-05-29    1035\n",
      "2018-05-30    1410\n",
      "2018-05-31    2256\n",
      "Length: 364, dtype: int64\n",
      "Start Ts\n",
      "2017-05-29/2017-06-04     2309\n",
      "2017-06-05/2017-06-11     4931\n",
      "2017-06-12/2017-06-18     3214\n",
      "2017-06-19/2017-06-25     3273\n",
      "2017-06-26/2017-07-02     3514\n",
      "2017-07-03/2017-07-09     3822\n",
      "2017-07-10/2017-07-16     5105\n",
      "2017-07-17/2017-07-23     4574\n",
      "2017-07-24/2017-07-30     3072\n",
      "2017-07-31/2017-08-06     2729\n",
      "2017-08-07/2017-08-13     2782\n",
      "2017-08-14/2017-08-20     3128\n",
      "2017-08-21/2017-08-27     3585\n",
      "2017-08-28/2017-09-03     4296\n",
      "2017-09-04/2017-09-10     5115\n",
      "2017-09-11/2017-09-17     5011\n",
      "2017-09-18/2017-09-24     5715\n",
      "2017-09-25/2017-10-01     7315\n",
      "2017-10-02/2017-10-08     8878\n",
      "2017-10-09/2017-10-15     8317\n",
      "2017-10-16/2017-10-22     8336\n",
      "2017-10-23/2017-10-29     8712\n",
      "2017-10-30/2017-11-05     8645\n",
      "2017-11-06/2017-11-12     8287\n",
      "2017-11-13/2017-11-19     9656\n",
      "2017-11-20/2017-11-26    13572\n",
      "2017-11-27/2017-12-03    10409\n",
      "2017-12-04/2017-12-10    10298\n",
      "2017-12-11/2017-12-17    10120\n",
      "2017-12-18/2017-12-24     8500\n",
      "2017-12-25/2017-12-31     9230\n",
      "2018-01-01/2018-01-07     8057\n",
      "2018-01-08/2018-01-14     7871\n",
      "2018-01-15/2018-01-21     8317\n",
      "2018-01-22/2018-01-28     8488\n",
      "2018-01-29/2018-02-04     9796\n",
      "2018-02-05/2018-02-11     9407\n",
      "2018-02-12/2018-02-18     9272\n",
      "2018-02-19/2018-02-25     8930\n",
      "2018-02-26/2018-03-04     8771\n",
      "2018-03-05/2018-03-11     8147\n",
      "2018-03-12/2018-03-18     7489\n",
      "2018-03-19/2018-03-25     9393\n",
      "2018-03-26/2018-04-01     5862\n",
      "2018-04-02/2018-04-08     6242\n",
      "2018-04-09/2018-04-15     6382\n",
      "2018-04-16/2018-04-22     6768\n",
      "2018-04-23/2018-04-29     6574\n",
      "2018-04-30/2018-05-06     4496\n",
      "2018-05-07/2018-05-13     4803\n",
      "2018-05-14/2018-05-20     6094\n",
      "2018-05-21/2018-05-27     5934\n",
      "2018-05-28/2018-06-03     5857\n",
      "Freq: W-SUN, dtype: int64\n",
      "Start Ts\n",
      "2017-06    16505\n",
      "2017-07    17828\n",
      "2017-08    14355\n",
      "2017-09    23907\n",
      "2017-10    37903\n",
      "2017-11    43969\n",
      "2017-12    41983\n",
      "2018-01    36939\n",
      "2018-02    37182\n",
      "2018-03    35679\n",
      "2018-04    26515\n",
      "2018-05    26635\n",
      "Freq: M, dtype: int64\n"
     ]
    }
   ],
   "source": [
    "# Extraer la fecha de la columna 'Start Ts'\n",
    "visits['Date'] = visits['Start Ts'].dt.date\n",
    "\n",
    "# Visitas diarias\n",
    "daily_visits = visits.groupby('Date').size()\n",
    "print(daily_visits)\n",
    "\n",
    "# Visitas semanales\n",
    "weekly_visits = visits.groupby(visits['Start Ts'].dt.to_period('W')).size()\n",
    "print(weekly_visits)\n",
    "\n",
    "# Visitas mensuales\n",
    "monthly_visits = visits.groupby(visits['Start Ts'].dt.to_period('M')).size()\n",
    "print(monthly_visits)\n"
   ]
  },
  {
   "cell_type": "markdown",
   "metadata": {},
   "source": [
    "Número de sesiones por día\n",
    "Calculamos cuántas sesiones hay por día."
   ]
  },
  {
   "cell_type": "code",
   "execution_count": 4,
   "metadata": {},
   "outputs": [
    {
     "name": "stdout",
     "output_type": "stream",
     "text": [
      "Date\n",
      "2017-06-01     605\n",
      "2017-06-02     608\n",
      "2017-06-03     445\n",
      "2017-06-04     476\n",
      "2017-06-05     820\n",
      "              ... \n",
      "2018-05-27     620\n",
      "2018-05-28    1039\n",
      "2018-05-29     948\n",
      "2018-05-30    1289\n",
      "2018-05-31    1997\n",
      "Name: Uid, Length: 364, dtype: int64\n"
     ]
    }
   ],
   "source": [
    "# Número de sesiones por día\n",
    "sessions_per_day = visits.groupby('Date')['Uid'].nunique()\n",
    "print(sessions_per_day)\n"
   ]
  },
  {
   "cell_type": "markdown",
   "metadata": {},
   "source": [
    "Duración de cada sesión\n",
    "Calculamos la duración de cada sesión."
   ]
  },
  {
   "cell_type": "code",
   "execution_count": 5,
   "metadata": {},
   "outputs": [
    {
     "name": "stdout",
     "output_type": "stream",
     "text": [
      "Duración promedio de las sesiones: 643.0256872565387 segundos\n"
     ]
    }
   ],
   "source": [
    "# Duración de cada sesión\n",
    "visits['Duration'] = (visits['End Ts'] - visits['Start Ts']).dt.total_seconds()\n",
    "avg_duration = visits['Duration'].mean()\n",
    "print(f\"Duración promedio de las sesiones: {avg_duration} segundos\")\n"
   ]
  },
  {
   "cell_type": "markdown",
   "metadata": {},
   "source": [
    "Frecuencia de regreso de los usuarios\n",
    "Calculamos la frecuencia con la que los usuarios regresan.\n",
    "\n"
   ]
  },
  {
   "cell_type": "code",
   "execution_count": 6,
   "metadata": {},
   "outputs": [
    {
     "name": "stdout",
     "output_type": "stream",
     "text": [
      "Proporción de usuarios que regresan: 0.6348608792431831\n"
     ]
    }
   ],
   "source": [
    "# Frecuencia de regreso de los usuarios\n",
    "returning_users = visits['Uid'].nunique() / visits['Uid'].count()\n",
    "print(f\"Proporción de usuarios que regresan: {returning_users}\")\n"
   ]
  },
  {
   "cell_type": "markdown",
   "metadata": {},
   "source": [
    "## Análisis de Visitas\n",
    "\n",
    "Tendencia General de Visitas:\n",
    "\n",
    "\n",
    "Durante el período analizado, las visitas diarias mostraron fluctuaciones con picos notables. Por ejemplo, el número de visitas en días específicos alcanzó hasta 2,256 el 31 de mayo de 2018, lo que sugiere un aumento en el interés o la efectividad de una campaña en particular.\n",
    "\n",
    "\n",
    "Visitas Semanales:\n",
    "\n",
    "\n",
    "El análisis semanal mostró un total de 57,465 visitas en las semanas más activas, lo que indica que los clientes tienden a visitar con mayor frecuencia al inicio y al final de las semanas, posiblemente alineado con comportamientos de compra típicos.\n",
    "\n",
    "\n",
    "Visitas Mensuales:\n",
    "\n",
    "\n",
    "A nivel mensual, el total de visitas fue más alto en octubre de 2017, alcanzando 37,903. Esto puede estar vinculado a campañas específicas o eventos que impulsaron el tráfico durante ese mes.\n",
    "\n",
    "\n",
    "Duración Promedio de las Sesiones:\n",
    "\n",
    "\n",
    "La duración promedio de las sesiones fue de aproximadamente 643 segundos, lo que indica que los visitantes están comprometidos con el contenido. Esto es positivo, pero también sugiere la oportunidad de optimizar el sitio para una navegación aún más atractiva.\n",
    "\n",
    "\n",
    "Proporción de Usuarios que Regresan:\n",
    "\n",
    "\n",
    "La proporción de usuarios que regresan fue del 63.5%, lo que muestra que más de la mitad de los visitantes son recurrentes. Esto es un indicativo de lealtad, aunque hay espacio para mejorar la retención a través de estrategias de marketing personalizadas."
   ]
  },
  {
   "cell_type": "markdown",
   "metadata": {},
   "source": [
    "Análisis de Ventas\n",
    "Primeras compras\n",
    "Aquí analizamos cuándo empiezan a comprar los usuarios."
   ]
  },
  {
   "cell_type": "code",
   "execution_count": 8,
   "metadata": {},
   "outputs": [
    {
     "name": "stdout",
     "output_type": "stream",
     "text": [
      "                        Uid              Buy Ts  Conversion Time\n",
      "0           313578113262317 2018-01-03 21:51:00             14.0\n",
      "1          1575281904278712 2017-06-03 10:13:00           -262.0\n",
      "2          2429014661409475 2017-10-11 18:33:00            102.0\n",
      "3          2464366381792757 2018-01-28 15:54:00           -112.0\n",
      "4          2551852515556206 2017-11-24 10:14:00            -34.0\n",
      "...                     ...                 ...              ...\n",
      "36518  18445147675727495770 2017-11-24 09:03:00             69.0\n",
      "36519  18445407535914413204 2017-09-22 23:55:00           -150.0\n",
      "36520  18445601152732270159 2018-03-26 22:54:00            172.0\n",
      "36521  18446156210226471712 2018-02-18 19:34:00            135.0\n",
      "36522  18446167067214817906 2017-10-17 10:16:00            -52.0\n",
      "\n",
      "[36523 rows x 3 columns]\n"
     ]
    }
   ],
   "source": [
    "# Primeras compras\n",
    "first_purchase = orders.groupby('Uid')['Buy Ts'].min().reset_index()\n",
    "first_purchase['Conversion Time'] = (first_purchase['Buy Ts'] - visits['Start Ts']).dt.days\n",
    "print(first_purchase)\n"
   ]
  },
  {
   "cell_type": "markdown",
   "metadata": {},
   "source": [
    "Número de pedidos\n",
    "Calculamos cuántos pedidos hay en total."
   ]
  },
  {
   "cell_type": "code",
   "execution_count": 9,
   "metadata": {},
   "outputs": [
    {
     "name": "stdout",
     "output_type": "stream",
     "text": [
      "Número total de pedidos: 50415\n"
     ]
    }
   ],
   "source": [
    "# Número total de pedidos\n",
    "total_orders = orders['Uid'].count()\n",
    "print(f\"Número total de pedidos: {total_orders}\")\n"
   ]
  },
  {
   "cell_type": "markdown",
   "metadata": {},
   "source": [
    "Tamaño promedio de compra\n",
    "Calculamos el tamaño promedio de las compras."
   ]
  },
  {
   "cell_type": "code",
   "execution_count": 10,
   "metadata": {},
   "outputs": [
    {
     "name": "stdout",
     "output_type": "stream",
     "text": [
      "Tamaño promedio de compra: 4.999646930477041\n"
     ]
    }
   ],
   "source": [
    "# Tamaño promedio de compra\n",
    "avg_order_size = orders['Revenue'].mean()\n",
    "print(f\"Tamaño promedio de compra: {avg_order_size}\")\n"
   ]
  },
  {
   "cell_type": "markdown",
   "metadata": {},
   "source": [
    "Valor de vida del cliente (LTV)\n",
    "Calculamos el LTV de los clientes."
   ]
  },
  {
   "cell_type": "code",
   "execution_count": 11,
   "metadata": {},
   "outputs": [
    {
     "name": "stdout",
     "output_type": "stream",
     "text": [
      "Valor de vida del cliente (LTV): 6.901327930345262\n"
     ]
    }
   ],
   "source": [
    "# LTV\n",
    "ltv = orders.groupby('Uid')['Revenue'].sum().mean()\n",
    "print(f\"Valor de vida del cliente (LTV): {ltv}\")\n"
   ]
  },
  {
   "cell_type": "markdown",
   "metadata": {},
   "source": [
    "## Análisis de Ventas\n",
    "\n",
    "Total de Pedidos:\n",
    "\n",
    "\n",
    "Se registraron un total de 50,415 pedidos en el período analizado, lo que refleja una actividad de compra considerable y un interés sostenido en los productos ofrecidos.\n",
    "\n",
    "\n",
    "Tamaño Promedio de Compra:\n",
    "\n",
    "\n",
    "El tamaño promedio de compra fue de aproximadamente 5 unidades. Este dato sugiere que los clientes están dispuestos a comprar múltiples productos por transacción, lo que podría ser mejorado mediante tácticas de ventas cruzadas y promociones.\n",
    "\n",
    "\n",
    "Valor de Vida del Cliente (LTV):\n",
    "\n",
    "\n",
    "El LTV calculado fue de 6.90. Esto es un indicador crítico que sugiere que cada cliente genera un valor significativo a lo largo de su relación con la marca. Esto debe ser considerado al establecer el CAC y la estrategia de marketing.\n",
    "\n",
    "\n",
    "Análisis de Primeras Compras:\n",
    "\n",
    "\n",
    "El análisis del tiempo de conversión para las primeras compras reveló variaciones significativas. Algunos clientes realizaron su primera compra rápidamente, mientras que otros tardaron más, lo que sugiere diferencias en el comportamiento de compra. Las campañas de marketing deben centrarse en acortar el tiempo de conversión para los nuevos usuarios.\n"
   ]
  },
  {
   "cell_type": "markdown",
   "metadata": {},
   "source": [
    "Análisis de Marketing\n",
    "Gastos totales\n",
    "Analizamos cuánto dinero se gastó en marketing."
   ]
  },
  {
   "cell_type": "code",
   "execution_count": 12,
   "metadata": {},
   "outputs": [
    {
     "name": "stdout",
     "output_type": "stream",
     "text": [
      "Gastos totales en marketing: 329131.62\n",
      "source_id\n",
      "1      20833.27\n",
      "2      42806.04\n",
      "3     141321.63\n",
      "4      61073.60\n",
      "5      51757.10\n",
      "9       5517.49\n",
      "10      5822.49\n",
      "Name: costs, dtype: float64\n"
     ]
    }
   ],
   "source": [
    "# Gastos totales\n",
    "total_costs = costs['costs'].sum()\n",
    "print(f\"Gastos totales en marketing: {total_costs}\")\n",
    "\n",
    "# Gastos por fuente\n",
    "costs_by_source = costs.groupby('source_id')['costs'].sum()\n",
    "print(costs_by_source)\n"
   ]
  },
  {
   "cell_type": "markdown",
   "metadata": {},
   "source": [
    "Costo de adquisición de clientes (CAC)\n",
    "Calculamos el CAC."
   ]
  },
  {
   "cell_type": "code",
   "execution_count": 13,
   "metadata": {},
   "outputs": [
    {
     "name": "stdout",
     "output_type": "stream",
     "text": [
      "Costo de adquisición de clientes (CAC): 6.528446295745314\n"
     ]
    }
   ],
   "source": [
    "# Costo de adquisición de clientes\n",
    "cac = total_costs / total_orders\n",
    "print(f\"Costo de adquisición de clientes (CAC): {cac}\")\n"
   ]
  },
  {
   "cell_type": "markdown",
   "metadata": {},
   "source": [
    "Rentabilidad de las inversiones (ROMI)\n",
    "Finalmente, calculamos el ROMI."
   ]
  },
  {
   "cell_type": "code",
   "execution_count": 14,
   "metadata": {},
   "outputs": [
    {
     "name": "stdout",
     "output_type": "stream",
     "text": [
      "Rentabilidad de las inversiones (ROMI): 0.05711644359285925\n"
     ]
    }
   ],
   "source": [
    "# Rentabilidad de las inversiones (ROMI)\n",
    "romi = (ltv - cac) / cac\n",
    "print(f\"Rentabilidad de las inversiones (ROMI): {romi}\")\n"
   ]
  },
  {
   "cell_type": "markdown",
   "metadata": {},
   "source": [
    "## Análisis de Marketing\n",
    "\n",
    "Gastos Totales en Marketing:\n",
    "\n",
    "\n",
    "Los gastos totales en marketing fueron de 329,131.62, distribuidos entre diferentes fuentes de adquisición. Esto es un factor crucial para evaluar la efectividad de las campañas de marketing implementadas.\n",
    "\n",
    "\n",
    "Costo de Adquisición de Clientes (CAC):\n",
    "\n",
    "\n",
    "El CAC se calculó en 6.53, lo que es relativamente bajo y sugiere que la empresa está adquiriendo clientes de manera eficiente. Sin embargo, es fundamental que este costo se mantenga bajo para asegurar la sostenibilidad a largo plazo.\n",
    "\n",
    "\n",
    "Rentabilidad de las Inversiones (ROMI):\n",
    "\n",
    "\n",
    "La ROMI fue de 0.06, lo que indica que por cada dólar invertido en marketing, se obtiene un retorno de seis centavos. Este valor es bajo y sugiere que es necesario revisar las estrategias de marketing actuales para mejorar el retorno.\n",
    "\n",
    "\n",
    "Desglose de Gastos por Fuente:\n",
    "\n",
    "\n",
    "Los gastos se distribuyeron de la siguiente manera entre las diferentes fuentes:\n",
    "\n",
    "Fuente 1: 20,833.27,\n",
    "Fuente 2: 42,806.04,\n",
    "Fuente 3: 141,321.63,\n",
    "Fuente 4: 61,073.60,\n",
    "Fuente 5: 51,757.10\n",
    "\n",
    "\n",
    "Esto proporciona una visión clara de qué canales están generando más gastos y si están alineados con el rendimiento esperado.\n",
    "\n"
   ]
  },
  {
   "cell_type": "markdown",
   "metadata": {},
   "source": [
    " Visualización de Datos"
   ]
  },
  {
   "cell_type": "code",
   "execution_count": 15,
   "metadata": {
    "scrolled": false
   },
   "outputs": [
    {
     "data": {
      "image/png": "[encoded data removed]",
      "text/plain": [
       "<Figure size 1200x600 with 1 Axes>"
      ]
     },
     "metadata": {},
     "output_type": "display_data"
    },
    {
     "data": {
      "image/png": "[encoded data removed]",
      "text/plain": [
       "<Figure size 1200x600 with 1 Axes>"
      ]
     },
     "metadata": {},
     "output_type": "display_data"
    }
   ],
   "source": [
    "import matplotlib.pyplot as plt\n",
    "import seaborn as sns\n",
    "\n",
    "# Gráfico de visitas diarias\n",
    "plt.figure(figsize=(12, 6))\n",
    "plt.plot(daily_visits.index, daily_visits.values)\n",
    "plt.title('Visitas Diarias')\n",
    "plt.xlabel('Fecha')\n",
    "plt.ylabel('Número de Visitas')\n",
    "plt.xticks(rotation=45)\n",
    "plt.grid()\n",
    "plt.show()\n",
    "\n",
    "# Gráfico de costos por fuente\n",
    "plt.figure(figsize=(12, 6))\n",
    "sns.barplot(x=costs_by_source.index, y=costs_by_source.values)\n",
    "plt.title('Gastos por Fuente de Anuncio')\n",
    "plt.xlabel('Fuente de Anuncio')\n",
    "plt.ylabel('Gastos')\n",
    "plt.xticks(rotation=45)\n",
    "plt.show()\n"
   ]
  },
  {
   "cell_type": "markdown",
   "metadata": {},
   "source": [
    "## Concluciones\n",
    "\n",
    "Rendimiento de Visitas:\n",
    "\n",
    "\n",
    "Durante el período analizado, el número de visitas mostró una tendencia creciente, con picos notables en ciertas fechas. Esto indica un interés sostenido en nuestros productos y servicios, lo que resalta la efectividad de algunas campañas de marketing.\n",
    "\n",
    "\n",
    "Retención de Clientes:\n",
    "\n",
    "\n",
    "La proporción de usuarios que regresan se situó alrededor del 63.5%, lo que sugiere una buena tasa de retención. Sin embargo, hay espacio para mejorar esta métrica mediante la implementación de estrategias de fidelización y atención al cliente.\n",
    "\n",
    "\n",
    "Análisis de Ventas:\n",
    "\n",
    "\n",
    "Se registraron 50,415 pedidos con un tamaño promedio de compra de aproximadamente 5.00 unidades. Estos resultados indican una actividad de compra saludable, pero también sugieren la necesidad de fomentar compras más grandes a través de promociones o bundling de productos.\n",
    "\n",
    "\n",
    "Valor de Vida del Cliente (LTV):\n",
    "\n",
    "\n",
    "El LTV calculado de 6.90 indica que cada cliente aporta un valor significativo a lo largo de su relación con la empresa. Este valor debe ser considerado en la planificación de presupuestos de marketing y adquisición de clientes.\n",
    "\n",
    "\n",
    "Eficiencia en Marketing:\n",
    "\n",
    "\n",
    "Los gastos totales en marketing fueron de 329,131.62, con un costo de adquisición de clientes (CAC) de 6.53. Aunque esto es relativamente aceptable, el ROMI de 0.06 sugiere que las inversiones en marketing no están generando un retorno óptimo. Es esencial revisar las campañas para identificar áreas de mejora y optimizar el uso del presupuesto.\n",
    "\n",
    "\n",
    "Recomendaciones para Mejorar el Rendimiento:\n",
    "\n",
    "\n",
    "Se deben realizar ajustes en las campañas de marketing que no generen resultados positivos y redirigir los recursos hacia aquellas que ofrezcan un mayor retorno.\n",
    "\n",
    "\n",
    "La implementación de programas de fidelización y el análisis de cohortes permitirán entender mejor el comportamiento de los clientes y mejorar la experiencia general.\n",
    "\n",
    "\n",
    "Además, es recomendable explorar estrategias que fomenten un mayor valor por cliente, como promociones de ventas cruzadas o la introducción de nuevas líneas de productos."
   ]
  },
  {
   "cell_type": "code",
   "execution_count": null,
   "metadata": {},
   "outputs": [],
   "source": []
  }
 ],
 "metadata": {
  "ExecuteTimeLog": [
   {
    "duration": 867,
    "start_time": "2024-10-03T01:13:15.187Z"
   },
   {
    "duration": 162,
    "start_time": "2024-10-03T01:14:26.020Z"
   },
   {
    "duration": 151,
    "start_time": "2024-10-03T01:15:09.974Z"
   },
   {
    "duration": 71,
    "start_time": "2024-10-03T01:15:45.528Z"
   },
   {
    "duration": 9,
    "start_time": "2024-10-03T01:16:10.430Z"
   },
   {
    "duration": 15,
    "start_time": "2024-10-03T01:16:36.047Z"
   },
   {
    "duration": 7,
    "start_time": "2024-10-03T01:17:00.894Z"
   },
   {
    "duration": 26,
    "start_time": "2024-10-03T01:17:15.887Z"
   },
   {
    "duration": 3,
    "start_time": "2024-10-03T01:17:39.943Z"
   },
   {
    "duration": 4,
    "start_time": "2024-10-03T01:17:59.007Z"
   },
   {
    "duration": 11,
    "start_time": "2024-10-03T01:18:19.366Z"
   },
   {
    "duration": 5,
    "start_time": "2024-10-03T01:18:43.574Z"
   },
   {
    "duration": 3,
    "start_time": "2024-10-03T01:19:07.982Z"
   },
   {
    "duration": 3,
    "start_time": "2024-10-03T01:19:31.186Z"
   },
   {
    "duration": 2560,
    "start_time": "2024-10-03T01:20:00.995Z"
   }
  ],
  "kernelspec": {
   "display_name": "Python 3 (ipykernel)",
   "language": "python",
   "name": "python3"
  },
  "language_info": {
   "codemirror_mode": {
    "name": "ipython",
    "version": 3
   },
   "file_extension": ".py",
   "mimetype": "text/x-python",
   "name": "python",
   "nbconvert_exporter": "python",
   "pygments_lexer": "ipython3",
   "version": "3.9.19"
  },
  "toc": {
   "base_numbering": 1,
   "nav_menu": {},
   "number_sections": true,
   "sideBar": true,
   "skip_h1_title": true,
   "title_cell": "Table of Contents",
   "title_sidebar": "Contents",
   "toc_cell": false,
   "toc_position": {},
   "toc_section_display": true,
   "toc_window_display": false
  }
 },
 "nbformat": 4,
 "nbformat_minor": 2
}
